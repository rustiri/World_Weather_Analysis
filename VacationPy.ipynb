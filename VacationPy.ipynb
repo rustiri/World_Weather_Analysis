{
 "cells": [
  {
   "cell_type": "markdown",
   "metadata": {},
   "source": [
    "<h3>6.5.2: Create Heatmaps for Weather Parameters</h3>\n",
    "<p>For a basic heatmap, all we need to do is provide the following:</p>\n",
    "<ul>\n",
    "    <li>Latitudes and longitudes for the locations</li>\n",
    "<li>A measurement value for each latitude and longitude in the form of arrays that have the same number of items in each array</li>\n",
    "</ul>"
   ]
  },
  {
   "cell_type": "code",
   "execution_count": 1,
   "metadata": {},
   "outputs": [],
   "source": [
    "# Import the dependencies.\n",
    "import pandas as pd\n",
    "import gmaps\n",
    "import requests\n",
    "\n",
    "# Import the API key.\n",
    "from config import g_key"
   ]
  },
  {
   "cell_type": "code",
   "execution_count": 2,
   "metadata": {},
   "outputs": [
    {
     "data": {
      "text/html": [
       "<div>\n",
       "<style scoped>\n",
       "    .dataframe tbody tr th:only-of-type {\n",
       "        vertical-align: middle;\n",
       "    }\n",
       "\n",
       "    .dataframe tbody tr th {\n",
       "        vertical-align: top;\n",
       "    }\n",
       "\n",
       "    .dataframe thead th {\n",
       "        text-align: right;\n",
       "    }\n",
       "</style>\n",
       "<table border=\"1\" class=\"dataframe\">\n",
       "  <thead>\n",
       "    <tr style=\"text-align: right;\">\n",
       "      <th></th>\n",
       "      <th>City_ID</th>\n",
       "      <th>City</th>\n",
       "      <th>Country</th>\n",
       "      <th>Date</th>\n",
       "      <th>Lat</th>\n",
       "      <th>Lng</th>\n",
       "      <th>Max Temp</th>\n",
       "      <th>Humidity</th>\n",
       "      <th>Cloudiness</th>\n",
       "      <th>Wind Speed</th>\n",
       "    </tr>\n",
       "  </thead>\n",
       "  <tbody>\n",
       "    <tr>\n",
       "      <th>0</th>\n",
       "      <td>0</td>\n",
       "      <td>Hermanus</td>\n",
       "      <td>ZA</td>\n",
       "      <td>2020-10-20 19:30:13</td>\n",
       "      <td>-34.42</td>\n",
       "      <td>19.23</td>\n",
       "      <td>55.00</td>\n",
       "      <td>78</td>\n",
       "      <td>0</td>\n",
       "      <td>0.56</td>\n",
       "    </tr>\n",
       "    <tr>\n",
       "      <th>1</th>\n",
       "      <td>1</td>\n",
       "      <td>Saskylakh</td>\n",
       "      <td>RU</td>\n",
       "      <td>2020-10-20 19:30:13</td>\n",
       "      <td>71.92</td>\n",
       "      <td>114.08</td>\n",
       "      <td>20.88</td>\n",
       "      <td>97</td>\n",
       "      <td>99</td>\n",
       "      <td>7.56</td>\n",
       "    </tr>\n",
       "    <tr>\n",
       "      <th>2</th>\n",
       "      <td>2</td>\n",
       "      <td>Stavrovo</td>\n",
       "      <td>RU</td>\n",
       "      <td>2020-10-20 19:30:13</td>\n",
       "      <td>56.13</td>\n",
       "      <td>40.01</td>\n",
       "      <td>32.34</td>\n",
       "      <td>96</td>\n",
       "      <td>15</td>\n",
       "      <td>10.11</td>\n",
       "    </tr>\n",
       "    <tr>\n",
       "      <th>3</th>\n",
       "      <td>3</td>\n",
       "      <td>Pisco</td>\n",
       "      <td>PE</td>\n",
       "      <td>2020-10-20 19:30:13</td>\n",
       "      <td>-13.70</td>\n",
       "      <td>-76.22</td>\n",
       "      <td>69.01</td>\n",
       "      <td>72</td>\n",
       "      <td>20</td>\n",
       "      <td>9.17</td>\n",
       "    </tr>\n",
       "    <tr>\n",
       "      <th>4</th>\n",
       "      <td>4</td>\n",
       "      <td>Butaritari</td>\n",
       "      <td>KI</td>\n",
       "      <td>2020-10-20 19:30:14</td>\n",
       "      <td>3.07</td>\n",
       "      <td>172.79</td>\n",
       "      <td>81.77</td>\n",
       "      <td>76</td>\n",
       "      <td>97</td>\n",
       "      <td>12.03</td>\n",
       "    </tr>\n",
       "  </tbody>\n",
       "</table>\n",
       "</div>"
      ],
      "text/plain": [
       "   City_ID        City Country                 Date    Lat     Lng  Max Temp  \\\n",
       "0        0    Hermanus      ZA  2020-10-20 19:30:13 -34.42   19.23     55.00   \n",
       "1        1   Saskylakh      RU  2020-10-20 19:30:13  71.92  114.08     20.88   \n",
       "2        2    Stavrovo      RU  2020-10-20 19:30:13  56.13   40.01     32.34   \n",
       "3        3       Pisco      PE  2020-10-20 19:30:13 -13.70  -76.22     69.01   \n",
       "4        4  Butaritari      KI  2020-10-20 19:30:14   3.07  172.79     81.77   \n",
       "\n",
       "   Humidity  Cloudiness  Wind Speed  \n",
       "0        78           0        0.56  \n",
       "1        97          99        7.56  \n",
       "2        96          15       10.11  \n",
       "3        72          20        9.17  \n",
       "4        76          97       12.03  "
      ]
     },
     "execution_count": 2,
     "metadata": {},
     "output_type": "execute_result"
    }
   ],
   "source": [
    "# Store the CSV you saved created in part one into a DataFrame.\n",
    "city_data_df = pd.read_csv(\"weather_data/cities.csv\")\n",
    "city_data_df.head()"
   ]
  },
  {
   "cell_type": "code",
   "execution_count": 5,
   "metadata": {},
   "outputs": [
    {
     "data": {
      "text/plain": [
       "City_ID         int64\n",
       "City           object\n",
       "Country        object\n",
       "Date           object\n",
       "Lat           float64\n",
       "Lng           float64\n",
       "Max Temp      float64\n",
       "Humidity        int64\n",
       "Cloudiness      int64\n",
       "Wind Speed    float64\n",
       "dtype: object"
      ]
     },
     "execution_count": 5,
     "metadata": {},
     "output_type": "execute_result"
    }
   ],
   "source": [
    "# check the data types for the columns of our DataFrame.\n",
    "city_data_df.dtypes"
   ]
  },
  {
   "cell_type": "markdown",
   "metadata": {},
   "source": [
    "\n",
    "<h4>Create a Maximum Temperature Heatmap</h4>\n",
    "<p>First, tell gmaps to use your API key. You only need to configure gmaps to use your API key once.</p>"
   ]
  },
  {
   "cell_type": "code",
   "execution_count": 6,
   "metadata": {},
   "outputs": [],
   "source": [
    "# Configure gmaps to use your Google API key.\n",
    "gmaps.configure(api_key=g_key)"
   ]
  },
  {
   "cell_type": "markdown",
   "metadata": {},
   "source": [
    "<p>Next, create the heatmap for the maximum temperature.</p>\n",
    "<p>Google heatmaps do not plot negative numbers. If you have a maximum temperature that is less than 0 °F, then you will get an InvalidWeightException error for this line of code:</p>\n",
    "<p>heat_layer = gmaps.heatmap_layer(locations, weights=max_temp)</p>\n",
    "<p>To remove the negative temperatures we can use a for loop to iterate through the max_temp and add the temperatures that are greater than 0 °F to a new list.</p>"
   ]
  },
  {
   "cell_type": "code",
   "execution_count": 8,
   "metadata": {},
   "outputs": [],
   "source": [
    "# Get the maximum temperature.\n",
    "max_temp = city_data_df[\"Max Temp\"]\n",
    "temps = []\n",
    "for temp in max_temp:\n",
    "    temps.append(max(temp, 0))"
   ]
  },
  {
   "cell_type": "code",
   "execution_count": 11,
   "metadata": {},
   "outputs": [
    {
     "data": {
      "application/vnd.jupyter.widget-view+json": {
       "model_id": "d825d53b7f0b4c419e323d3ead993ace",
       "version_major": 2,
       "version_minor": 0
      },
      "text/plain": [
       "Figure(layout=FigureLayout(height='420px'))"
      ]
     },
     "metadata": {},
     "output_type": "display_data"
    }
   ],
   "source": [
    "# Heatmap of temperature\n",
    "# 1. Assign the locations to an array of latitude and longitude pairs.\n",
    "#locations = [latitude, longitude]\n",
    "locations = city_data_df[[\"Lat\", \"Lng\"]]\n",
    "\n",
    "# 2. Assign the weights variable to some values.\n",
    "#temperatures = # an array of equal length of the locations array.\n",
    "\n",
    "# Get the maximum temperature.\n",
    "max_temp = city_data_df[\"Max Temp\"]\n",
    "\n",
    "# 3. Assign the figure variable to the gmaps.figure() attribute.\n",
    "fig = gmaps.figure()\n",
    "\n",
    "# 4. Assign the heatmap_layer variable to the heatmap_layer attribute and add in the locations.\n",
    "#heatmap_layer = gmaps.heatmap_layer(locations, weights=temperatures)\n",
    "#heat_layer = gmaps.heatmap_layer(locations, weights=max_temp)\n",
    "#heat_layer = gmaps.heatmap_layer(locations, weights=temps)\n",
    "\n",
    "#Instead of using the for loop for temps, we can perform a list comprehension within the heatmap_layer() function.\n",
    "heat_layer = gmaps.heatmap_layer(locations, weights=[max(temp, 0) for temp in max_temp])\n",
    "\n",
    "# 5. Add the heatmap layer.\n",
    "fig.add_layer(heat_layer)\n",
    "\n",
    "# 6. Call the figure to plot the data.\n",
    "fig"
   ]
  },
  {
   "cell_type": "markdown",
   "metadata": {},
   "source": [
    "<h4>Adjust Heatmap Zoom, Intensity, and Point Radius</h4>\n",
    "<p>First, add the geographic center of Earth in the form of latitude and longitude (30.0° N and 31.0° E). Also, add a zoom level so that only one map of Earth is shown.</p>\n",
    "<p>gmaps.figure() attribute.</p>"
   ]
  },
  {
   "cell_type": "code",
   "execution_count": 13,
   "metadata": {},
   "outputs": [
    {
     "data": {
      "application/vnd.jupyter.widget-view+json": {
       "model_id": "26df997778cb40a284f71e2a03fc7a12",
       "version_major": 2,
       "version_minor": 0
      },
      "text/plain": [
       "Figure(layout=FigureLayout(height='420px'))"
      ]
     },
     "metadata": {},
     "output_type": "display_data"
    }
   ],
   "source": [
    "fig = gmaps.figure(center=(30.0, 31.0), zoom_level=1.5)\n",
    "fig"
   ]
  },
  {
   "cell_type": "code",
   "execution_count": 14,
   "metadata": {},
   "outputs": [
    {
     "data": {
      "application/vnd.jupyter.widget-view+json": {
       "model_id": "26df997778cb40a284f71e2a03fc7a12",
       "version_major": 2,
       "version_minor": 0
      },
      "text/plain": [
       "Figure(layout=FigureLayout(height='420px'))"
      ]
     },
     "metadata": {},
     "output_type": "display_data"
    }
   ],
   "source": [
    "# modify heat_layer\n",
    "heat_layer = gmaps.heatmap_layer(locations, weights=temps, dissipating=False, max_intensity=300, point_radius=4)\n",
    "fig.add_layer(heat_layer)\n",
    "fig"
   ]
  },
  {
   "cell_type": "markdown",
   "metadata": {},
   "source": [
    "\n",
    "<h4>Create a Percent Humidity Heatmap</h4>\n",
    "<p>reuse the code and use the humidity values for the measurements.</p>"
   ]
  },
  {
   "cell_type": "code",
   "execution_count": 15,
   "metadata": {},
   "outputs": [
    {
     "data": {
      "application/vnd.jupyter.widget-view+json": {
       "model_id": "50ff9338aab34d949dbc6f6759e16fdc",
       "version_major": 2,
       "version_minor": 0
      },
      "text/plain": [
       "Figure(layout=FigureLayout(height='420px'))"
      ]
     },
     "metadata": {},
     "output_type": "display_data"
    }
   ],
   "source": [
    "# Heatmap of percent humidity\n",
    "locations = city_data_df[[\"Lat\", \"Lng\"]]\n",
    "humidity = city_data_df[\"Humidity\"]\n",
    "fig = gmaps.figure(center=(30.0, 31.0), zoom_level=1.5)\n",
    "heat_layer = gmaps.heatmap_layer(locations, weights=humidity, dissipating=False, max_intensity=300, point_radius=4)\n",
    "\n",
    "fig.add_layer(heat_layer)\n",
    "\n",
    "# Call the figure to plot the data.\n",
    "fig"
   ]
  },
  {
   "cell_type": "markdown",
   "metadata": {},
   "source": [
    "\n",
    "<h4>Create a Percent Cloudiness Heatmap</h4>"
   ]
  },
  {
   "cell_type": "code",
   "execution_count": 17,
   "metadata": {},
   "outputs": [
    {
     "data": {
      "application/vnd.jupyter.widget-view+json": {
       "model_id": "944e32e578cc440f9d41e6404ed202cf",
       "version_major": 2,
       "version_minor": 0
      },
      "text/plain": [
       "Figure(layout=FigureLayout(height='420px'))"
      ]
     },
     "metadata": {},
     "output_type": "display_data"
    }
   ],
   "source": [
    "# Heatmap of percent cloudiness\n",
    "locations = city_data_df[[\"Lat\", \"Lng\"]]\n",
    "clouds = city_data_df[\"Cloudiness\"]\n",
    "fig = gmaps.figure(center=(30.0, 31.0), zoom_level=1.5)\n",
    "heat_layer = gmaps.heatmap_layer(locations, weights=clouds, dissipating=False, max_intensity=300, point_radius=4)\n",
    "\n",
    "fig.add_layer(heat_layer)\n",
    "\n",
    "# Call the figure to plot the data.\n",
    "fig"
   ]
  },
  {
   "cell_type": "markdown",
   "metadata": {},
   "source": [
    "\n",
    "<h4>Create a Wind Speed Heatmap</h4>"
   ]
  },
  {
   "cell_type": "code",
   "execution_count": 18,
   "metadata": {},
   "outputs": [
    {
     "data": {
      "application/vnd.jupyter.widget-view+json": {
       "model_id": "18ed842ec196423aad6f932118c39cba",
       "version_major": 2,
       "version_minor": 0
      },
      "text/plain": [
       "Figure(layout=FigureLayout(height='420px'))"
      ]
     },
     "metadata": {},
     "output_type": "display_data"
    }
   ],
   "source": [
    "# Heatmap of percent wind speed\n",
    "locations = city_data_df[[\"Lat\", \"Lng\"]]\n",
    "wind = city_data_df[\"Wind Speed\"]\n",
    "fig = gmaps.figure(center=(30.0, 31.0), zoom_level=1.5)\n",
    "heat_layer = gmaps.heatmap_layer(locations, weights=wind, dissipating=False, max_intensity=300, point_radius=4)\n",
    "\n",
    "fig.add_layer(heat_layer)\n",
    "\n",
    "# Call the figure to plot the data.\n",
    "fig"
   ]
  },
  {
   "cell_type": "markdown",
   "metadata": {},
   "source": [
    "\n",
    "<h3>6.5.3: Get Vacation Criteria</h3>\n",
    "<p>A feature on the app that allows customers to search for locations they want to travel based on their temperature preferences.</p>\n",
    "<p>Recall that you use the input() statement to prompt a user to enter information. To convert the input to a floating-point decimal number, wrap the input() statement with the float() method, like this: float(input()).</p>"
   ]
  },
  {
   "cell_type": "code",
   "execution_count": 19,
   "metadata": {},
   "outputs": [
    {
     "name": "stdout",
     "output_type": "stream",
     "text": [
      "What is the minimum temperature you would like for your trip? 75\n",
      "What is the maximum temperature you would like for your trip? 90\n"
     ]
    }
   ],
   "source": [
    "# Ask the customer to add a minimum and maximum temperature value.\n",
    "min_temp = float(input(\"What is the minimum temperature you would like for your trip? \"))\n",
    "max_temp = float(input(\"What is the maximum temperature you would like for your trip? \"))"
   ]
  },
  {
   "cell_type": "code",
   "execution_count": 20,
   "metadata": {},
   "outputs": [
    {
     "data": {
      "text/html": [
       "<div>\n",
       "<style scoped>\n",
       "    .dataframe tbody tr th:only-of-type {\n",
       "        vertical-align: middle;\n",
       "    }\n",
       "\n",
       "    .dataframe tbody tr th {\n",
       "        vertical-align: top;\n",
       "    }\n",
       "\n",
       "    .dataframe thead th {\n",
       "        text-align: right;\n",
       "    }\n",
       "</style>\n",
       "<table border=\"1\" class=\"dataframe\">\n",
       "  <thead>\n",
       "    <tr style=\"text-align: right;\">\n",
       "      <th></th>\n",
       "      <th>City_ID</th>\n",
       "      <th>City</th>\n",
       "      <th>Country</th>\n",
       "      <th>Date</th>\n",
       "      <th>Lat</th>\n",
       "      <th>Lng</th>\n",
       "      <th>Max Temp</th>\n",
       "      <th>Humidity</th>\n",
       "      <th>Cloudiness</th>\n",
       "      <th>Wind Speed</th>\n",
       "    </tr>\n",
       "  </thead>\n",
       "  <tbody>\n",
       "    <tr>\n",
       "      <th>4</th>\n",
       "      <td>4</td>\n",
       "      <td>Butaritari</td>\n",
       "      <td>KI</td>\n",
       "      <td>2020-10-20 19:30:14</td>\n",
       "      <td>3.07</td>\n",
       "      <td>172.79</td>\n",
       "      <td>81.77</td>\n",
       "      <td>76</td>\n",
       "      <td>97</td>\n",
       "      <td>12.03</td>\n",
       "    </tr>\n",
       "    <tr>\n",
       "      <th>8</th>\n",
       "      <td>8</td>\n",
       "      <td>Samarai</td>\n",
       "      <td>PG</td>\n",
       "      <td>2020-10-20 19:30:15</td>\n",
       "      <td>-10.62</td>\n",
       "      <td>150.67</td>\n",
       "      <td>78.76</td>\n",
       "      <td>86</td>\n",
       "      <td>100</td>\n",
       "      <td>8.41</td>\n",
       "    </tr>\n",
       "    <tr>\n",
       "      <th>10</th>\n",
       "      <td>10</td>\n",
       "      <td>Axim</td>\n",
       "      <td>GH</td>\n",
       "      <td>2020-10-20 19:30:15</td>\n",
       "      <td>4.87</td>\n",
       "      <td>-2.24</td>\n",
       "      <td>77.41</td>\n",
       "      <td>87</td>\n",
       "      <td>99</td>\n",
       "      <td>9.44</td>\n",
       "    </tr>\n",
       "    <tr>\n",
       "      <th>22</th>\n",
       "      <td>22</td>\n",
       "      <td>Mitsamiouli</td>\n",
       "      <td>KM</td>\n",
       "      <td>2020-10-20 19:30:17</td>\n",
       "      <td>-11.38</td>\n",
       "      <td>43.28</td>\n",
       "      <td>79.32</td>\n",
       "      <td>73</td>\n",
       "      <td>0</td>\n",
       "      <td>2.93</td>\n",
       "    </tr>\n",
       "    <tr>\n",
       "      <th>23</th>\n",
       "      <td>23</td>\n",
       "      <td>Hilo</td>\n",
       "      <td>US</td>\n",
       "      <td>2020-10-20 19:30:18</td>\n",
       "      <td>19.73</td>\n",
       "      <td>-155.09</td>\n",
       "      <td>82.40</td>\n",
       "      <td>58</td>\n",
       "      <td>1</td>\n",
       "      <td>5.82</td>\n",
       "    </tr>\n",
       "    <tr>\n",
       "      <th>25</th>\n",
       "      <td>25</td>\n",
       "      <td>Salimpur</td>\n",
       "      <td>IN</td>\n",
       "      <td>2020-10-20 19:30:18</td>\n",
       "      <td>28.13</td>\n",
       "      <td>76.28</td>\n",
       "      <td>76.05</td>\n",
       "      <td>18</td>\n",
       "      <td>0</td>\n",
       "      <td>5.23</td>\n",
       "    </tr>\n",
       "    <tr>\n",
       "      <th>42</th>\n",
       "      <td>42</td>\n",
       "      <td>Puerto Ayora</td>\n",
       "      <td>EC</td>\n",
       "      <td>2020-10-20 19:30:23</td>\n",
       "      <td>-0.74</td>\n",
       "      <td>-90.35</td>\n",
       "      <td>77.00</td>\n",
       "      <td>73</td>\n",
       "      <td>40</td>\n",
       "      <td>16.11</td>\n",
       "    </tr>\n",
       "    <tr>\n",
       "      <th>50</th>\n",
       "      <td>50</td>\n",
       "      <td>Puerto Del Rosario</td>\n",
       "      <td>ES</td>\n",
       "      <td>2020-10-20 19:29:36</td>\n",
       "      <td>28.50</td>\n",
       "      <td>-13.86</td>\n",
       "      <td>77.00</td>\n",
       "      <td>73</td>\n",
       "      <td>40</td>\n",
       "      <td>8.05</td>\n",
       "    </tr>\n",
       "    <tr>\n",
       "      <th>52</th>\n",
       "      <td>52</td>\n",
       "      <td>Kudahuvadhoo</td>\n",
       "      <td>MV</td>\n",
       "      <td>2020-10-20 19:30:25</td>\n",
       "      <td>2.67</td>\n",
       "      <td>72.89</td>\n",
       "      <td>82.29</td>\n",
       "      <td>79</td>\n",
       "      <td>100</td>\n",
       "      <td>12.35</td>\n",
       "    </tr>\n",
       "    <tr>\n",
       "      <th>53</th>\n",
       "      <td>53</td>\n",
       "      <td>Sinnamary</td>\n",
       "      <td>GF</td>\n",
       "      <td>2020-10-20 19:30:25</td>\n",
       "      <td>5.38</td>\n",
       "      <td>-52.95</td>\n",
       "      <td>83.91</td>\n",
       "      <td>67</td>\n",
       "      <td>100</td>\n",
       "      <td>14.00</td>\n",
       "    </tr>\n",
       "  </tbody>\n",
       "</table>\n",
       "</div>"
      ],
      "text/plain": [
       "    City_ID                City Country                 Date    Lat     Lng  \\\n",
       "4         4          Butaritari      KI  2020-10-20 19:30:14   3.07  172.79   \n",
       "8         8             Samarai      PG  2020-10-20 19:30:15 -10.62  150.67   \n",
       "10       10                Axim      GH  2020-10-20 19:30:15   4.87   -2.24   \n",
       "22       22         Mitsamiouli      KM  2020-10-20 19:30:17 -11.38   43.28   \n",
       "23       23                Hilo      US  2020-10-20 19:30:18  19.73 -155.09   \n",
       "25       25            Salimpur      IN  2020-10-20 19:30:18  28.13   76.28   \n",
       "42       42        Puerto Ayora      EC  2020-10-20 19:30:23  -0.74  -90.35   \n",
       "50       50  Puerto Del Rosario      ES  2020-10-20 19:29:36  28.50  -13.86   \n",
       "52       52        Kudahuvadhoo      MV  2020-10-20 19:30:25   2.67   72.89   \n",
       "53       53           Sinnamary      GF  2020-10-20 19:30:25   5.38  -52.95   \n",
       "\n",
       "    Max Temp  Humidity  Cloudiness  Wind Speed  \n",
       "4      81.77        76          97       12.03  \n",
       "8      78.76        86         100        8.41  \n",
       "10     77.41        87          99        9.44  \n",
       "22     79.32        73           0        2.93  \n",
       "23     82.40        58           1        5.82  \n",
       "25     76.05        18           0        5.23  \n",
       "42     77.00        73          40       16.11  \n",
       "50     77.00        73          40        8.05  \n",
       "52     82.29        79         100       12.35  \n",
       "53     83.91        67         100       14.00  "
      ]
     },
     "execution_count": 20,
     "metadata": {},
     "output_type": "execute_result"
    }
   ],
   "source": [
    "# Filter the dataset to find the cities that fit the criteria.\n",
    "preferred_cities_df = city_data_df.loc[(city_data_df[\"Max Temp\"] <= max_temp) & \\\n",
    "                                       (city_data_df[\"Max Temp\"] >= min_temp)]\n",
    "preferred_cities_df.head(10)"
   ]
  },
  {
   "cell_type": "code",
   "execution_count": 21,
   "metadata": {},
   "outputs": [
    {
     "data": {
      "text/plain": [
       "City_ID       150\n",
       "City          150\n",
       "Country       150\n",
       "Date          150\n",
       "Lat           150\n",
       "Lng           150\n",
       "Max Temp      150\n",
       "Humidity      150\n",
       "Cloudiness    150\n",
       "Wind Speed    150\n",
       "dtype: int64"
      ]
     },
     "execution_count": 21,
     "metadata": {},
     "output_type": "execute_result"
    }
   ],
   "source": [
    "# to determine if there are any null values.\n",
    "preferred_cities_df.count()"
   ]
  },
  {
   "cell_type": "markdown",
   "metadata": {},
   "source": [
    "\n",
    "<h3>6.5.4: Map Vacation Criteria</h3>\n",
    "<p>To show customer a heatmap for the maximum temperature for the filtered cities. In addition, create a marker for each city that will display the name of the city, country code, maximum temperature, and name of a nearby hotel within three miles of the coordinates when the marker is clicked.</p>"
   ]
  },
  {
   "cell_type": "markdown",
   "metadata": {},
   "source": [
    "<h4>Get Travel Destinations</h4>\n",
    "<p>Need to create a new DataFrame specifically for the data needed to create a heatmap and pop-up markers.</p>\n",
    "<p>Make a copy of the preferred_cities_df DataFrame and name it hotel_df. For the hotel_df, keep the columns \"City,\" \"Country,\" \"Max Temp,\" \"Lat,\" and \"Lng.\" Add a new column to the hotel_df DataFrame to hold the name of the hotel.</p>"
   ]
  },
  {
   "cell_type": "code",
   "execution_count": 22,
   "metadata": {},
   "outputs": [
    {
     "data": {
      "text/html": [
       "<div>\n",
       "<style scoped>\n",
       "    .dataframe tbody tr th:only-of-type {\n",
       "        vertical-align: middle;\n",
       "    }\n",
       "\n",
       "    .dataframe tbody tr th {\n",
       "        vertical-align: top;\n",
       "    }\n",
       "\n",
       "    .dataframe thead th {\n",
       "        text-align: right;\n",
       "    }\n",
       "</style>\n",
       "<table border=\"1\" class=\"dataframe\">\n",
       "  <thead>\n",
       "    <tr style=\"text-align: right;\">\n",
       "      <th></th>\n",
       "      <th>City</th>\n",
       "      <th>Country</th>\n",
       "      <th>Max Temp</th>\n",
       "      <th>Lat</th>\n",
       "      <th>Lng</th>\n",
       "      <th>Hotel Name</th>\n",
       "    </tr>\n",
       "  </thead>\n",
       "  <tbody>\n",
       "    <tr>\n",
       "      <th>4</th>\n",
       "      <td>Butaritari</td>\n",
       "      <td>KI</td>\n",
       "      <td>81.77</td>\n",
       "      <td>3.07</td>\n",
       "      <td>172.79</td>\n",
       "      <td></td>\n",
       "    </tr>\n",
       "    <tr>\n",
       "      <th>8</th>\n",
       "      <td>Samarai</td>\n",
       "      <td>PG</td>\n",
       "      <td>78.76</td>\n",
       "      <td>-10.62</td>\n",
       "      <td>150.67</td>\n",
       "      <td></td>\n",
       "    </tr>\n",
       "    <tr>\n",
       "      <th>10</th>\n",
       "      <td>Axim</td>\n",
       "      <td>GH</td>\n",
       "      <td>77.41</td>\n",
       "      <td>4.87</td>\n",
       "      <td>-2.24</td>\n",
       "      <td></td>\n",
       "    </tr>\n",
       "    <tr>\n",
       "      <th>22</th>\n",
       "      <td>Mitsamiouli</td>\n",
       "      <td>KM</td>\n",
       "      <td>79.32</td>\n",
       "      <td>-11.38</td>\n",
       "      <td>43.28</td>\n",
       "      <td></td>\n",
       "    </tr>\n",
       "    <tr>\n",
       "      <th>23</th>\n",
       "      <td>Hilo</td>\n",
       "      <td>US</td>\n",
       "      <td>82.40</td>\n",
       "      <td>19.73</td>\n",
       "      <td>-155.09</td>\n",
       "      <td></td>\n",
       "    </tr>\n",
       "    <tr>\n",
       "      <th>25</th>\n",
       "      <td>Salimpur</td>\n",
       "      <td>IN</td>\n",
       "      <td>76.05</td>\n",
       "      <td>28.13</td>\n",
       "      <td>76.28</td>\n",
       "      <td></td>\n",
       "    </tr>\n",
       "    <tr>\n",
       "      <th>42</th>\n",
       "      <td>Puerto Ayora</td>\n",
       "      <td>EC</td>\n",
       "      <td>77.00</td>\n",
       "      <td>-0.74</td>\n",
       "      <td>-90.35</td>\n",
       "      <td></td>\n",
       "    </tr>\n",
       "    <tr>\n",
       "      <th>50</th>\n",
       "      <td>Puerto Del Rosario</td>\n",
       "      <td>ES</td>\n",
       "      <td>77.00</td>\n",
       "      <td>28.50</td>\n",
       "      <td>-13.86</td>\n",
       "      <td></td>\n",
       "    </tr>\n",
       "    <tr>\n",
       "      <th>52</th>\n",
       "      <td>Kudahuvadhoo</td>\n",
       "      <td>MV</td>\n",
       "      <td>82.29</td>\n",
       "      <td>2.67</td>\n",
       "      <td>72.89</td>\n",
       "      <td></td>\n",
       "    </tr>\n",
       "    <tr>\n",
       "      <th>53</th>\n",
       "      <td>Sinnamary</td>\n",
       "      <td>GF</td>\n",
       "      <td>83.91</td>\n",
       "      <td>5.38</td>\n",
       "      <td>-52.95</td>\n",
       "      <td></td>\n",
       "    </tr>\n",
       "  </tbody>\n",
       "</table>\n",
       "</div>"
      ],
      "text/plain": [
       "                  City Country  Max Temp    Lat     Lng Hotel Name\n",
       "4           Butaritari      KI     81.77   3.07  172.79           \n",
       "8              Samarai      PG     78.76 -10.62  150.67           \n",
       "10                Axim      GH     77.41   4.87   -2.24           \n",
       "22         Mitsamiouli      KM     79.32 -11.38   43.28           \n",
       "23                Hilo      US     82.40  19.73 -155.09           \n",
       "25            Salimpur      IN     76.05  28.13   76.28           \n",
       "42        Puerto Ayora      EC     77.00  -0.74  -90.35           \n",
       "50  Puerto Del Rosario      ES     77.00  28.50  -13.86           \n",
       "52        Kudahuvadhoo      MV     82.29   2.67   72.89           \n",
       "53           Sinnamary      GF     83.91   5.38  -52.95           "
      ]
     },
     "execution_count": 22,
     "metadata": {},
     "output_type": "execute_result"
    }
   ],
   "source": [
    "# Create new DataFrame called hotel_df to store hotel names along with city, country, max temp, and coordinates.\n",
    "hotel_df = preferred_cities_df[[\"City\", \"Country\", \"Max Temp\", \"Lat\", \"Lng\"]].copy()\n",
    "hotel_df[\"Hotel Name\"] = \"\"\n",
    "hotel_df.head(10)"
   ]
  },
  {
   "cell_type": "markdown",
   "metadata": {},
   "source": [
    "<h4>Retrieve Hotels from a Nearby Search</h4>\n",
    "<p>The first step for retrieving hotels from a Nearby Search is to set the parameters for the search.</p>\n",
    "\n",
    "<h5>Set the Parameters for a Nearby Search</h5>\n",
    "<p>To find the nearest establishment to geographic coordinates, use the Google Places Nearby Search request.</p>\n",
    "\n",
    "<h4>Iterate Through hotel_df DataFrame</h4>\n",
    "<p>We can use the iterrows() function to perform the iteration; however, we need to provide the index and the row in the for loop using this syntax: for index, row in df.iterrows().</p>"
   ]
  },
  {
   "cell_type": "code",
   "execution_count": 29,
   "metadata": {},
   "outputs": [
    {
     "name": "stdout",
     "output_type": "stream",
     "text": [
      "Hotel not found... skipping.\n",
      "Hotel not found... skipping.\n",
      "Hotel not found... skipping.\n",
      "Hotel not found... skipping.\n",
      "Hotel not found... skipping.\n",
      "Hotel not found... skipping.\n",
      "Hotel not found... skipping.\n",
      "Hotel not found... skipping.\n",
      "Hotel not found... skipping.\n",
      "Hotel not found... skipping.\n"
     ]
    },
    {
     "data": {
      "text/html": [
       "<div>\n",
       "<style scoped>\n",
       "    .dataframe tbody tr th:only-of-type {\n",
       "        vertical-align: middle;\n",
       "    }\n",
       "\n",
       "    .dataframe tbody tr th {\n",
       "        vertical-align: top;\n",
       "    }\n",
       "\n",
       "    .dataframe thead th {\n",
       "        text-align: right;\n",
       "    }\n",
       "</style>\n",
       "<table border=\"1\" class=\"dataframe\">\n",
       "  <thead>\n",
       "    <tr style=\"text-align: right;\">\n",
       "      <th></th>\n",
       "      <th>City</th>\n",
       "      <th>Country</th>\n",
       "      <th>Max Temp</th>\n",
       "      <th>Lat</th>\n",
       "      <th>Lng</th>\n",
       "      <th>Hotel Name</th>\n",
       "    </tr>\n",
       "  </thead>\n",
       "  <tbody>\n",
       "    <tr>\n",
       "      <th>4</th>\n",
       "      <td>Butaritari</td>\n",
       "      <td>KI</td>\n",
       "      <td>81.77</td>\n",
       "      <td>3.07</td>\n",
       "      <td>172.79</td>\n",
       "      <td>Isles Sunset Lodge</td>\n",
       "    </tr>\n",
       "    <tr>\n",
       "      <th>8</th>\n",
       "      <td>Samarai</td>\n",
       "      <td>PG</td>\n",
       "      <td>78.76</td>\n",
       "      <td>-10.62</td>\n",
       "      <td>150.67</td>\n",
       "      <td>Nuli Sapi</td>\n",
       "    </tr>\n",
       "    <tr>\n",
       "      <th>10</th>\n",
       "      <td>Axim</td>\n",
       "      <td>GH</td>\n",
       "      <td>77.41</td>\n",
       "      <td>4.87</td>\n",
       "      <td>-2.24</td>\n",
       "      <td>AXIM BEACH RESORT AND SPA</td>\n",
       "    </tr>\n",
       "    <tr>\n",
       "      <th>22</th>\n",
       "      <td>Mitsamiouli</td>\n",
       "      <td>KM</td>\n",
       "      <td>79.32</td>\n",
       "      <td>-11.38</td>\n",
       "      <td>43.28</td>\n",
       "      <td>Foyer ADM</td>\n",
       "    </tr>\n",
       "    <tr>\n",
       "      <th>23</th>\n",
       "      <td>Hilo</td>\n",
       "      <td>US</td>\n",
       "      <td>82.40</td>\n",
       "      <td>19.73</td>\n",
       "      <td>-155.09</td>\n",
       "      <td>Hilo Hawaiian Hotel</td>\n",
       "    </tr>\n",
       "    <tr>\n",
       "      <th>25</th>\n",
       "      <td>Salimpur</td>\n",
       "      <td>IN</td>\n",
       "      <td>76.05</td>\n",
       "      <td>28.13</td>\n",
       "      <td>76.28</td>\n",
       "      <td>जाजम Royal Family Rao shab</td>\n",
       "    </tr>\n",
       "    <tr>\n",
       "      <th>42</th>\n",
       "      <td>Puerto Ayora</td>\n",
       "      <td>EC</td>\n",
       "      <td>77.00</td>\n",
       "      <td>-0.74</td>\n",
       "      <td>-90.35</td>\n",
       "      <td>Finch Bay Galapagos Hotel</td>\n",
       "    </tr>\n",
       "    <tr>\n",
       "      <th>50</th>\n",
       "      <td>Puerto Del Rosario</td>\n",
       "      <td>ES</td>\n",
       "      <td>77.00</td>\n",
       "      <td>28.50</td>\n",
       "      <td>-13.86</td>\n",
       "      <td>Hotel JM Puerto del Rosario</td>\n",
       "    </tr>\n",
       "    <tr>\n",
       "      <th>52</th>\n",
       "      <td>Kudahuvadhoo</td>\n",
       "      <td>MV</td>\n",
       "      <td>82.29</td>\n",
       "      <td>2.67</td>\n",
       "      <td>72.89</td>\n",
       "      <td>Kudahuvadhoo Retreat</td>\n",
       "    </tr>\n",
       "    <tr>\n",
       "      <th>53</th>\n",
       "      <td>Sinnamary</td>\n",
       "      <td>GF</td>\n",
       "      <td>83.91</td>\n",
       "      <td>5.38</td>\n",
       "      <td>-52.95</td>\n",
       "      <td>ALETHEIA Appartement Sinnamary</td>\n",
       "    </tr>\n",
       "  </tbody>\n",
       "</table>\n",
       "</div>"
      ],
      "text/plain": [
       "                  City Country  Max Temp    Lat     Lng  \\\n",
       "4           Butaritari      KI     81.77   3.07  172.79   \n",
       "8              Samarai      PG     78.76 -10.62  150.67   \n",
       "10                Axim      GH     77.41   4.87   -2.24   \n",
       "22         Mitsamiouli      KM     79.32 -11.38   43.28   \n",
       "23                Hilo      US     82.40  19.73 -155.09   \n",
       "25            Salimpur      IN     76.05  28.13   76.28   \n",
       "42        Puerto Ayora      EC     77.00  -0.74  -90.35   \n",
       "50  Puerto Del Rosario      ES     77.00  28.50  -13.86   \n",
       "52        Kudahuvadhoo      MV     82.29   2.67   72.89   \n",
       "53           Sinnamary      GF     83.91   5.38  -52.95   \n",
       "\n",
       "                        Hotel Name  \n",
       "4               Isles Sunset Lodge  \n",
       "8                        Nuli Sapi  \n",
       "10       AXIM BEACH RESORT AND SPA  \n",
       "22                       Foyer ADM  \n",
       "23             Hilo Hawaiian Hotel  \n",
       "25      जाजम Royal Family Rao shab  \n",
       "42       Finch Bay Galapagos Hotel  \n",
       "50     Hotel JM Puerto del Rosario  \n",
       "52            Kudahuvadhoo Retreat  \n",
       "53  ALETHEIA Appartement Sinnamary  "
      ]
     },
     "execution_count": 29,
     "metadata": {},
     "output_type": "execute_result"
    }
   ],
   "source": [
    "# Set parameters to search for a hotel.\n",
    "params = {\n",
    "    \"radius\": 5000,\n",
    "    \"type\": \"lodging\",\n",
    "    \"key\": g_key\n",
    "}\n",
    "\n",
    "# Iterate through the DataFrame.\n",
    "for index, row in hotel_df.iterrows():\n",
    "    # Get the latitude and longitude.\n",
    "    lat = row[\"Lat\"]\n",
    "    lng = row[\"Lng\"]\n",
    "\n",
    "    # Add the latitude and longitude to location key for the params dictionary.\n",
    "    params[\"location\"] = f\"{lat},{lng}\"\n",
    "\n",
    "    # Use the search term: \"lodging\" and our latitude and longitude.\n",
    "    base_url = \"https://maps.googleapis.com/maps/api/place/nearbysearch/json\"\n",
    "    \n",
    "    # Make request and get the JSON data from the search.\n",
    "    hotels = requests.get(base_url, params=params).json()\n",
    "    \n",
    "    # Grab the first hotel from the results and store the name.\n",
    "    try:\n",
    "        hotel_df.loc[index, \"Hotel Name\"] = hotels[\"results\"][0][\"name\"]\n",
    "    except (IndexError):\n",
    "        print(\"Hotel not found... skipping.\")\n",
    "        \n",
    "hotel_df.head(10)"
   ]
  },
  {
   "cell_type": "markdown",
   "metadata": {},
   "source": [
    "\n",
    "<h3>Create a Maximum Temperature Heatmap from a Hotel DataFrame</h3>\n",
    "<p>Before adding pop-up markers with hotel information, let's create a heatmap using the maximum temperature from our hotel_df DataFrame by reusing the code and changing the DataFrame name.</p>"
   ]
  },
  {
   "cell_type": "code",
   "execution_count": 33,
   "metadata": {},
   "outputs": [
    {
     "data": {
      "application/vnd.jupyter.widget-view+json": {
       "model_id": "cd1431a17691444a983b534a2e3c65b8",
       "version_major": 2,
       "version_minor": 0
      },
      "text/plain": [
       "Figure(layout=FigureLayout(height='420px'))"
      ]
     },
     "metadata": {},
     "output_type": "display_data"
    }
   ],
   "source": [
    "# Add a heatmap of temperature for the vacation spots and a pop-up marker for each city.\n",
    "locations = hotel_df[[\"Lat\", \"Lng\"]]\n",
    "max_temp = hotel_df[\"Max Temp\"]\n",
    "fig = gmaps.figure(center=(30.0, 31.0), zoom_level=1.5)\n",
    "heat_layer = gmaps.heatmap_layer(locations, weights=max_temp,dissipating=False,\n",
    "             max_intensity=300, point_radius=4)\n",
    "\n",
    "# add marker for each city and pop-up hotel information with info_box_content\n",
    "marker_layer = gmaps.marker_layer(locations, info_box_content=hotel_info)\n",
    "\n",
    "# add layer\n",
    "fig.add_layer(heat_layer)\n",
    "fig.add_layer(marker_layer)\n",
    "\n",
    "# Call the figure to plot the data.\n",
    "fig"
   ]
  },
  {
   "cell_type": "markdown",
   "metadata": {},
   "source": [
    "\n",
    "<p>Add a pop-up marker for each city that displays the hotel name, city name, country, and maximum temperature.</p>\n",
    "<p>we need to add an info_box_template</p>"
   ]
  },
  {
   "cell_type": "code",
   "execution_count": 32,
   "metadata": {},
   "outputs": [],
   "source": [
    "info_box_template = \"\"\"\n",
    "<dl>\n",
    "<dt>Hotel Name</dt><dd>{Hotel Name}</dd>\n",
    "<dt>City</dt><dd>{City}</dd>\n",
    "<dt>Country</dt><dd>{Country}</dd>\n",
    "<dt>Max Temp</dt><dd>{Max Temp} °F</dd>\n",
    "</dl>\n",
    "\"\"\"\n",
    "\n",
    "# Store the DataFrame Row.\n",
    "hotel_info = [info_box_template.format(**row) for index, row in hotel_df.iterrows()]"
   ]
  },
  {
   "cell_type": "code",
   "execution_count": null,
   "metadata": {},
   "outputs": [],
   "source": []
  }
 ],
 "metadata": {
  "kernelspec": {
   "display_name": "PythonData",
   "language": "python",
   "name": "pythondata"
  },
  "language_info": {
   "codemirror_mode": {
    "name": "ipython",
    "version": 3
   },
   "file_extension": ".py",
   "mimetype": "text/x-python",
   "name": "python",
   "nbconvert_exporter": "python",
   "pygments_lexer": "ipython3",
   "version": "3.7.9"
  }
 },
 "nbformat": 4,
 "nbformat_minor": 4
}
